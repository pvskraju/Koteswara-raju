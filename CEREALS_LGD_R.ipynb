{
 "cells": [
  {
   "cell_type": "code",
   "execution_count": 4,
   "metadata": {},
   "outputs": [
    {
     "name": "stdout",
     "output_type": "stream",
     "text": [
      "'data.frame':\t73 obs. of  16 variables:\n",
      " $ name    : chr  \"100%_Bran\" \"100%_Natural_Bran\" \"All-Bran\" \"All-Bran_with_Extra_Fiber\" ...\n",
      " $ mfr     : chr  \"N\" \"Q\" \"K\" \"K\" ...\n",
      " $ type    : chr  \"C\" \"C\" \"C\" \"C\" ...\n",
      " $ calories: int  70 120 70 50 110 110 110 130 90 90 ...\n",
      " $ protein : int  4 3 4 4 2 2 2 3 2 3 ...\n",
      " $ fat     : int  1 5 1 0 2 2 0 2 1 0 ...\n",
      " $ sodium  : int  130 15 260 140 200 180 125 210 200 210 ...\n",
      " $ fiber   : num  10 2 9 14 1 1.5 1 2 4 5 ...\n",
      " $ carbo   : num  5 8 7 8 14 10.5 11 18 15 13 ...\n",
      " $ sugars  : int  6 8 5 0 8 10 14 8 6 5 ...\n",
      " $ potass  : int  280 135 320 330 -1 70 30 100 125 190 ...\n",
      " $ vitamins: int  25 0 25 25 25 25 25 25 25 25 ...\n",
      " $ shelf   : int  3 3 3 3 3 1 2 3 1 3 ...\n",
      " $ weight  : num  1 1 1 1 1 1 1 1.33 1 1 ...\n",
      " $ cups    : num  0.33 1 0.33 0.5 0.75 0.75 1 0.75 0.67 0.67 ...\n",
      " $ rating  : num  68.4 34 59.4 93.7 34.4 ...\n",
      "NULL\n"
     ]
    }
   ],
   "source": [
    "cerealslgd <- read.csv(\"E:\\\\Rprog\\\\Working Files\\\\cereals.csv\",\n",
    "                header = TRUE,\n",
    "                stringsAsFactors = FALSE,\n",
    "                strip.white = FALSE ,\n",
    "                sep = ',')\n",
    "\n",
    "print(str(cerealslgd))"
   ]
  },
  {
   "cell_type": "code",
   "execution_count": 5,
   "metadata": {},
   "outputs": [
    {
     "name": "stderr",
     "output_type": "stream",
     "text": [
      "dummies-1.5.6 provided by Decision Patterns\n",
      "\n"
     ]
    }
   ],
   "source": [
    "library(dummies)"
   ]
  },
  {
   "cell_type": "code",
   "execution_count": 6,
   "metadata": {},
   "outputs": [
    {
     "name": "stdout",
     "output_type": "stream",
     "text": [
      "                       name mfr type calories protein fat sodium fiber carbo\n",
      "1                 100%_Bran   N    C       70       4   1    130  10.0   5.0\n",
      "2         100%_Natural_Bran   Q    C      120       3   5     15   2.0   8.0\n",
      "3                  All-Bran   K    C       70       4   1    260   9.0   7.0\n",
      "4 All-Bran_with_Extra_Fiber   K    C       50       4   0    140  14.0   8.0\n",
      "5            Almond_Delight   R    C      110       2   2    200   1.0  14.0\n",
      "6   Apple_Cinnamon_Cheerios   G    C      110       2   2    180   1.5  10.5\n",
      "  sugars potass vitamins shelf weight cups   rating\n",
      "1      6    280       25     3      1 0.33 68.40297\n",
      "2      8    135        0     3      1 1.00 33.98368\n",
      "3      5    320       25     3      1 0.33 59.42551\n",
      "4      0    330       25     3      1 0.50 93.70491\n",
      "5      8     -1       25     3      1 0.75 34.38484\n",
      "6     10     70       25     1      1 0.75 29.50954\n"
     ]
    }
   ],
   "source": [
    "print(head(cerealslgd))\n"
   ]
  },
  {
   "cell_type": "code",
   "execution_count": 7,
   "metadata": {},
   "outputs": [
    {
     "data": {
      "text/html": [
       "<table>\n",
       "<thead><tr><th scope=col>cerealslgd.sodium</th><th scope=col>cerealslgd.fiber</th><th scope=col>cerealslgd.carbo</th><th scope=col>cerealslgd.sugars</th><th scope=col>cerealslgd.potass</th><th scope=col>cerealslgd.vitamins</th><th scope=col>cerealslgd.rating</th></tr></thead>\n",
       "<tbody>\n",
       "\t<tr><td>130   </td><td>10.0  </td><td> 5.0  </td><td> 6    </td><td>280   </td><td>25    </td><td>68.403</td></tr>\n",
       "\t<tr><td> 15   </td><td> 2.0  </td><td> 8.0  </td><td> 8    </td><td>135   </td><td> 0    </td><td>33.984</td></tr>\n",
       "\t<tr><td>260   </td><td> 9.0  </td><td> 7.0  </td><td> 5    </td><td>320   </td><td>25    </td><td>59.426</td></tr>\n",
       "\t<tr><td>140   </td><td>14.0  </td><td> 8.0  </td><td> 0    </td><td>330   </td><td>25    </td><td>93.705</td></tr>\n",
       "\t<tr><td>200   </td><td> 1.0  </td><td>14.0  </td><td> 8    </td><td> -1   </td><td>25    </td><td>34.385</td></tr>\n",
       "\t<tr><td>180   </td><td> 1.5  </td><td>10.5  </td><td>10    </td><td> 70   </td><td>25    </td><td>29.510</td></tr>\n",
       "</tbody>\n",
       "</table>\n"
      ],
      "text/latex": [
       "\\begin{tabular}{r|lllllll}\n",
       " cerealslgd.sodium & cerealslgd.fiber & cerealslgd.carbo & cerealslgd.sugars & cerealslgd.potass & cerealslgd.vitamins & cerealslgd.rating\\\\\n",
       "\\hline\n",
       "\t 130    & 10.0   &  5.0   &  6     & 280    & 25     & 68.403\\\\\n",
       "\t  15    &  2.0   &  8.0   &  8     & 135    &  0     & 33.984\\\\\n",
       "\t 260    &  9.0   &  7.0   &  5     & 320    & 25     & 59.426\\\\\n",
       "\t 140    & 14.0   &  8.0   &  0     & 330    & 25     & 93.705\\\\\n",
       "\t 200    &  1.0   & 14.0   &  8     &  -1    & 25     & 34.385\\\\\n",
       "\t 180    &  1.5   & 10.5   & 10     &  70    & 25     & 29.510\\\\\n",
       "\\end{tabular}\n"
      ],
      "text/markdown": [
       "\n",
       "cerealslgd.sodium | cerealslgd.fiber | cerealslgd.carbo | cerealslgd.sugars | cerealslgd.potass | cerealslgd.vitamins | cerealslgd.rating | \n",
       "|---|---|---|---|---|---|\n",
       "| 130    | 10.0   |  5.0   |  6     | 280    | 25     | 68.403 | \n",
       "|  15    |  2.0   |  8.0   |  8     | 135    |  0     | 33.984 | \n",
       "| 260    |  9.0   |  7.0   |  5     | 320    | 25     | 59.426 | \n",
       "| 140    | 14.0   |  8.0   |  0     | 330    | 25     | 93.705 | \n",
       "| 200    |  1.0   | 14.0   |  8     |  -1    | 25     | 34.385 | \n",
       "| 180    |  1.5   | 10.5   | 10     |  70    | 25     | 29.510 | \n",
       "\n",
       "\n"
      ],
      "text/plain": [
       "  cerealslgd.sodium cerealslgd.fiber cerealslgd.carbo cerealslgd.sugars\n",
       "1 130               10.0              5.0              6               \n",
       "2  15                2.0              8.0              8               \n",
       "3 260                9.0              7.0              5               \n",
       "4 140               14.0              8.0              0               \n",
       "5 200                1.0             14.0              8               \n",
       "6 180                1.5             10.5             10               \n",
       "  cerealslgd.potass cerealslgd.vitamins cerealslgd.rating\n",
       "1 280               25                  68.403           \n",
       "2 135                0                  33.984           \n",
       "3 320               25                  59.426           \n",
       "4 330               25                  93.705           \n",
       "5  -1               25                  34.385           \n",
       "6  70               25                  29.510           "
      ]
     },
     "metadata": {},
     "output_type": "display_data"
    }
   ],
   "source": [
    "options(digits=5)\n",
    "cerealslgd <- data.frame(cerealslgd$sodium,\n",
    "         cerealslgd$fiber, \n",
    "         cerealslgd$carbo,\n",
    "         cerealslgd$sugars, \n",
    "         cerealslgd$potass,\n",
    "         cerealslgd$vitamins, \n",
    "         cerealslgd$rating)\n",
    "                   \n",
    "head(cerealslgd)"
   ]
  },
  {
   "cell_type": "code",
   "execution_count": 8,
   "metadata": {},
   "outputs": [
    {
     "name": "stderr",
     "output_type": "stream",
     "text": [
      "\n",
      "Attaching package: 'dplyr'\n",
      "\n",
      "The following objects are masked from 'package:stats':\n",
      "\n",
      "    filter, lag\n",
      "\n",
      "The following objects are masked from 'package:base':\n",
      "\n",
      "    intersect, setdiff, setequal, union\n",
      "\n"
     ]
    }
   ],
   "source": [
    "library(\"dplyr\")\n"
   ]
  },
  {
   "cell_type": "code",
   "execution_count": 9,
   "metadata": {},
   "outputs": [
    {
     "data": {
      "text/html": [
       "<table>\n",
       "<thead><tr><th scope=col>Sodium</th><th scope=col>Fiber</th><th scope=col>Carbo</th><th scope=col>Sugars</th><th scope=col>Potas</th><th scope=col>Vitamins</th><th scope=col>LGD_Rating</th></tr></thead>\n",
       "<tbody>\n",
       "\t<tr><td>130   </td><td>10.0  </td><td> 5.0  </td><td> 6    </td><td>280   </td><td>25    </td><td>68.403</td></tr>\n",
       "\t<tr><td> 15   </td><td> 2.0  </td><td> 8.0  </td><td> 8    </td><td>135   </td><td> 0    </td><td>33.984</td></tr>\n",
       "\t<tr><td>260   </td><td> 9.0  </td><td> 7.0  </td><td> 5    </td><td>320   </td><td>25    </td><td>59.426</td></tr>\n",
       "\t<tr><td>140   </td><td>14.0  </td><td> 8.0  </td><td> 0    </td><td>330   </td><td>25    </td><td>93.705</td></tr>\n",
       "\t<tr><td>200   </td><td> 1.0  </td><td>14.0  </td><td> 8    </td><td> -1   </td><td>25    </td><td>34.385</td></tr>\n",
       "\t<tr><td>180   </td><td> 1.5  </td><td>10.5  </td><td>10    </td><td> 70   </td><td>25    </td><td>29.510</td></tr>\n",
       "</tbody>\n",
       "</table>\n"
      ],
      "text/latex": [
       "\\begin{tabular}{r|lllllll}\n",
       " Sodium & Fiber & Carbo & Sugars & Potas & Vitamins & LGD\\_Rating\\\\\n",
       "\\hline\n",
       "\t 130    & 10.0   &  5.0   &  6     & 280    & 25     & 68.403\\\\\n",
       "\t  15    &  2.0   &  8.0   &  8     & 135    &  0     & 33.984\\\\\n",
       "\t 260    &  9.0   &  7.0   &  5     & 320    & 25     & 59.426\\\\\n",
       "\t 140    & 14.0   &  8.0   &  0     & 330    & 25     & 93.705\\\\\n",
       "\t 200    &  1.0   & 14.0   &  8     &  -1    & 25     & 34.385\\\\\n",
       "\t 180    &  1.5   & 10.5   & 10     &  70    & 25     & 29.510\\\\\n",
       "\\end{tabular}\n"
      ],
      "text/markdown": [
       "\n",
       "Sodium | Fiber | Carbo | Sugars | Potas | Vitamins | LGD_Rating | \n",
       "|---|---|---|---|---|---|\n",
       "| 130    | 10.0   |  5.0   |  6     | 280    | 25     | 68.403 | \n",
       "|  15    |  2.0   |  8.0   |  8     | 135    |  0     | 33.984 | \n",
       "| 260    |  9.0   |  7.0   |  5     | 320    | 25     | 59.426 | \n",
       "| 140    | 14.0   |  8.0   |  0     | 330    | 25     | 93.705 | \n",
       "| 200    |  1.0   | 14.0   |  8     |  -1    | 25     | 34.385 | \n",
       "| 180    |  1.5   | 10.5   | 10     |  70    | 25     | 29.510 | \n",
       "\n",
       "\n"
      ],
      "text/plain": [
       "  Sodium Fiber Carbo Sugars Potas Vitamins LGD_Rating\n",
       "1 130    10.0   5.0   6     280   25       68.403    \n",
       "2  15     2.0   8.0   8     135    0       33.984    \n",
       "3 260     9.0   7.0   5     320   25       59.426    \n",
       "4 140    14.0   8.0   0     330   25       93.705    \n",
       "5 200     1.0  14.0   8      -1   25       34.385    \n",
       "6 180     1.5  10.5  10      70   25       29.510    "
      ]
     },
     "metadata": {},
     "output_type": "display_data"
    }
   ],
   "source": [
    "cerealslgd_new <- select(cerealslgd, \n",
    "      Sodium = cerealslgd.sodium,\n",
    "      Fiber = cerealslgd.fiber,\n",
    "      Carbo = cerealslgd.carbo,\n",
    "      Sugars = cerealslgd.sugars,\n",
    "      Potas = cerealslgd.potass,\n",
    "      Vitamins = cerealslgd.vitamins,\n",
    "      LGD_Rating = cerealslgd.rating)     \n",
    "\n",
    "head(cerealslgd_new)"
   ]
  },
  {
   "cell_type": "code",
   "execution_count": 10,
   "metadata": {},
   "outputs": [
    {
     "data": {
      "text/html": [
       "<table>\n",
       "<thead><tr><th></th><th scope=col>Sodium</th><th scope=col>Fiber</th><th scope=col>Carbo</th><th scope=col>Sugars</th><th scope=col>Potas</th><th scope=col>Vitamins</th><th scope=col>LGD_Rating</th></tr></thead>\n",
       "<tbody>\n",
       "\t<tr><th scope=row>Sodium</th><td> 1.000000</td><td>-0.064607</td><td> 0.361442</td><td> 0.113153</td><td>-0.017804</td><td> 0.362894</td><td>-0.407770</td></tr>\n",
       "\t<tr><th scope=row>Fiber</th><td>-0.064607</td><td> 1.000000</td><td>-0.353765</td><td>-0.164472</td><td> 0.906248</td><td>-0.029772</td><td> 0.599047</td></tr>\n",
       "\t<tr><th scope=row>Carbo</th><td> 0.361442</td><td>-0.353765</td><td> 1.000000</td><td>-0.342098</td><td>-0.357726</td><td> 0.260247</td><td> 0.058037</td></tr>\n",
       "\t<tr><th scope=row>Sugars</th><td> 0.113153</td><td>-0.164472</td><td>-0.342098</td><td> 1.000000</td><td>-0.017316</td><td> 0.132850</td><td>-0.759798</td></tr>\n",
       "\t<tr><th scope=row>Potas</th><td>-0.017804</td><td> 0.906248</td><td>-0.357726</td><td>-0.017316</td><td> 1.000000</td><td> 0.027678</td><td> 0.408775</td></tr>\n",
       "\t<tr><th scope=row>Vitamins</th><td> 0.362894</td><td>-0.029772</td><td> 0.260247</td><td> 0.132850</td><td> 0.027678</td><td> 1.000000</td><td>-0.245157</td></tr>\n",
       "\t<tr><th scope=row>LGD_Rating</th><td>-0.407770</td><td> 0.599047</td><td> 0.058037</td><td>-0.759798</td><td> 0.408775</td><td>-0.245157</td><td> 1.000000</td></tr>\n",
       "</tbody>\n",
       "</table>\n"
      ],
      "text/latex": [
       "\\begin{tabular}{r|lllllll}\n",
       "  & Sodium & Fiber & Carbo & Sugars & Potas & Vitamins & LGD\\_Rating\\\\\n",
       "\\hline\n",
       "\tSodium &  1.000000 & -0.064607 &  0.361442 &  0.113153 & -0.017804 &  0.362894 & -0.407770\\\\\n",
       "\tFiber & -0.064607 &  1.000000 & -0.353765 & -0.164472 &  0.906248 & -0.029772 &  0.599047\\\\\n",
       "\tCarbo &  0.361442 & -0.353765 &  1.000000 & -0.342098 & -0.357726 &  0.260247 &  0.058037\\\\\n",
       "\tSugars &  0.113153 & -0.164472 & -0.342098 &  1.000000 & -0.017316 &  0.132850 & -0.759798\\\\\n",
       "\tPotas & -0.017804 &  0.906248 & -0.357726 & -0.017316 &  1.000000 &  0.027678 &  0.408775\\\\\n",
       "\tVitamins &  0.362894 & -0.029772 &  0.260247 &  0.132850 &  0.027678 &  1.000000 & -0.245157\\\\\n",
       "\tLGD\\_Rating & -0.407770 &  0.599047 &  0.058037 & -0.759798 &  0.408775 & -0.245157 &  1.000000\\\\\n",
       "\\end{tabular}\n"
      ],
      "text/markdown": [
       "\n",
       "| <!--/--> | Sodium | Fiber | Carbo | Sugars | Potas | Vitamins | LGD_Rating | \n",
       "|---|---|---|---|---|---|---|\n",
       "| Sodium |  1.000000 | -0.064607 |  0.361442 |  0.113153 | -0.017804 |  0.362894 | -0.407770 | \n",
       "| Fiber | -0.064607 |  1.000000 | -0.353765 | -0.164472 |  0.906248 | -0.029772 |  0.599047 | \n",
       "| Carbo |  0.361442 | -0.353765 |  1.000000 | -0.342098 | -0.357726 |  0.260247 |  0.058037 | \n",
       "| Sugars |  0.113153 | -0.164472 | -0.342098 |  1.000000 | -0.017316 |  0.132850 | -0.759798 | \n",
       "| Potas | -0.017804 |  0.906248 | -0.357726 | -0.017316 |  1.000000 |  0.027678 |  0.408775 | \n",
       "| Vitamins |  0.362894 | -0.029772 |  0.260247 |  0.132850 |  0.027678 |  1.000000 | -0.245157 | \n",
       "| LGD_Rating | -0.407770 |  0.599047 |  0.058037 | -0.759798 |  0.408775 | -0.245157 |  1.000000 | \n",
       "\n",
       "\n"
      ],
      "text/plain": [
       "           Sodium    Fiber     Carbo     Sugars    Potas     Vitamins \n",
       "Sodium      1.000000 -0.064607  0.361442  0.113153 -0.017804  0.362894\n",
       "Fiber      -0.064607  1.000000 -0.353765 -0.164472  0.906248 -0.029772\n",
       "Carbo       0.361442 -0.353765  1.000000 -0.342098 -0.357726  0.260247\n",
       "Sugars      0.113153 -0.164472 -0.342098  1.000000 -0.017316  0.132850\n",
       "Potas      -0.017804  0.906248 -0.357726 -0.017316  1.000000  0.027678\n",
       "Vitamins    0.362894 -0.029772  0.260247  0.132850  0.027678  1.000000\n",
       "LGD_Rating -0.407770  0.599047  0.058037 -0.759798  0.408775 -0.245157\n",
       "           LGD_Rating\n",
       "Sodium     -0.407770 \n",
       "Fiber       0.599047 \n",
       "Carbo       0.058037 \n",
       "Sugars     -0.759798 \n",
       "Potas       0.408775 \n",
       "Vitamins   -0.245157 \n",
       "LGD_Rating  1.000000 "
      ]
     },
     "metadata": {},
     "output_type": "display_data"
    }
   ],
   "source": [
    "cor(cerealslgd_new)"
   ]
  },
  {
   "cell_type": "code",
   "execution_count": 11,
   "metadata": {},
   "outputs": [
    {
     "data": {
      "text/plain": [
       "     Sodium        Fiber           Carbo          Sugars          Potas      \n",
       " Min.   :  0   Min.   : 0.00   Min.   :-1.0   Min.   :-1.00   Min.   : -1.0  \n",
       " 1st Qu.:130   1st Qu.: 0.00   1st Qu.:12.0   1st Qu.: 3.00   1st Qu.: 40.0  \n",
       " Median :180   Median : 1.50   Median :14.0   Median : 6.00   Median : 90.0  \n",
       " Mean   :160   Mean   : 2.11   Mean   :14.6   Mean   : 6.75   Mean   : 93.1  \n",
       " 3rd Qu.:220   3rd Qu.: 3.00   3rd Qu.:17.0   3rd Qu.:11.00   3rd Qu.:115.0  \n",
       " Max.   :320   Max.   :14.00   Max.   :23.0   Max.   :15.00   Max.   :330.0  \n",
       "    Vitamins       LGD_Rating  \n",
       " Min.   :  0.0   Min.   :18.0  \n",
       " 1st Qu.: 25.0   1st Qu.:32.2  \n",
       " Median : 25.0   Median :40.4  \n",
       " Mean   : 28.4   Mean   :43.0  \n",
       " 3rd Qu.: 25.0   3rd Qu.:51.6  \n",
       " Max.   :100.0   Max.   :93.7  "
      ]
     },
     "metadata": {},
     "output_type": "display_data"
    }
   ],
   "source": [
    "summary(cerealslgd_new)"
   ]
  },
  {
   "cell_type": "code",
   "execution_count": 12,
   "metadata": {},
   "outputs": [
    {
     "data": {
      "text/plain": [
       "\n",
       "Call:\n",
       "lm(formula = cerealslgd_new$LGD_Rating ~ ., data = cerealslgd_new)\n",
       "\n",
       "Residuals:\n",
       "   Min     1Q Median     3Q    Max \n",
       "-9.780 -1.514  0.006  2.282 10.395 \n",
       "\n",
       "Coefficients:\n",
       "            Estimate Std. Error t value Pr(>|t|)    \n",
       "(Intercept) 48.57806    2.53009   19.20  < 2e-16 ***\n",
       "Sodium      -0.06009    0.00607   -9.90  1.1e-14 ***\n",
       "Fiber        4.59152    0.48152    9.54  4.9e-14 ***\n",
       "Carbo        0.74698    0.14033    5.32  1.3e-06 ***\n",
       "Sugars      -1.62138    0.12477  -13.00  < 2e-16 ***\n",
       "Potas       -0.04519    0.01579   -2.86   0.0056 ** \n",
       "Vitamins    -0.04861    0.02172   -2.24   0.0286 *  \n",
       "---\n",
       "Signif. codes:  0 '***' 0.001 '**' 0.01 '*' 0.05 '.' 0.1 ' ' 1\n",
       "\n",
       "Residual standard error: 3.79 on 66 degrees of freedom\n",
       "Multiple R-squared:  0.936,\tAdjusted R-squared:  0.93 \n",
       "F-statistic:  161 on 6 and 66 DF,  p-value: <2e-16\n"
      ]
     },
     "metadata": {},
     "output_type": "display_data"
    }
   ],
   "source": [
    "cereals_linearMod <- lm(cerealslgd_new$LGD_Rating ~ . , data=cerealslgd_new)\n",
    "\n",
    "summary(cereals_linearMod)"
   ]
  },
  {
   "cell_type": "code",
   "execution_count": 14,
   "metadata": {},
   "outputs": [
    {
     "data": {
      "text/plain": [
       "\n",
       "Call:\n",
       "lm(formula = cerealslgd_new$LGD_Rating ~ cerealslgd_new$Fiber + \n",
       "    cerealslgd_new$Sugars, data = cerealslgd_new)\n",
       "\n",
       "Residuals:\n",
       "   Min     1Q Median     3Q    Max \n",
       "-12.18  -4.39  -1.02   2.71  16.27 \n",
       "\n",
       "Coefficients:\n",
       "                      Estimate Std. Error t value Pr(>|t|)    \n",
       "(Intercept)             51.534      1.599   32.24  < 2e-16 ***\n",
       "cerealslgd_new$Fiber     2.894      0.315    9.18  1.2e-13 ***\n",
       "cerealslgd_new$Sugars   -2.170      0.169  -12.81  < 2e-16 ***\n",
       "---\n",
       "Signif. codes:  0 '***' 0.001 '**' 0.01 '*' 0.05 '.' 0.1 ' ' 1\n",
       "\n",
       "Residual standard error: 6.38 on 70 degrees of freedom\n",
       "Multiple R-squared:  0.808,\tAdjusted R-squared:  0.803 \n",
       "F-statistic:  148 on 2 and 70 DF,  p-value: <2e-16\n"
      ]
     },
     "metadata": {},
     "output_type": "display_data"
    }
   ],
   "source": [
    "cereals_linearMod <- lm(cerealslgd_new$LGD_Rating ~ cerealslgd_new$Fiber + cerealslgd_new$Sugars , data=cerealslgd_new)\n",
    "\n",
    "summary(cereals_linearMod)"
   ]
  },
  {
   "cell_type": "code",
   "execution_count": 15,
   "metadata": {},
   "outputs": [
    {
     "data": {
      "text/plain": [
       "\n",
       "Call:\n",
       "lm(formula = cerealslgd_new$LGD_Rating ~ cerealslgd_new$Sodium + \n",
       "    cerealslgd_new$Fiber + cerealslgd_new$Potas, data = cerealslgd_new)\n",
       "\n",
       "Residuals:\n",
       "   Min     1Q Median     3Q    Max \n",
       "-16.41  -7.42  -1.26   8.13  17.97 \n",
       "\n",
       "Coefficients:\n",
       "                      Estimate Std. Error t value Pr(>|t|)    \n",
       "(Intercept)            50.0135     2.8891   17.31  < 2e-16 ***\n",
       "cerealslgd_new$Sodium  -0.0575     0.0132   -4.35  4.7e-05 ***\n",
       "cerealslgd_new$Fiber    7.0448     1.1092    6.35  2.0e-08 ***\n",
       "cerealslgd_new$Potas   -0.1360     0.0377   -3.61  0.00058 ***\n",
       "---\n",
       "Signif. codes:  0 '***' 0.001 '**' 0.01 '*' 0.05 '.' 0.1 ' ' 1\n",
       "\n",
       "Residual standard error: 9.55 on 69 degrees of freedom\n",
       "Multiple R-squared:  0.576,\tAdjusted R-squared:  0.557 \n",
       "F-statistic: 31.2 on 3 and 69 DF,  p-value: 7.37e-13\n"
      ]
     },
     "metadata": {},
     "output_type": "display_data"
    }
   ],
   "source": [
    "cereals_linearMod <- lm(cerealslgd_new$LGD_Rating ~ cerealslgd_new$Sodium + cerealslgd_new$Fiber+cerealslgd_new$Potas , data=cerealslgd_new)\n",
    "\n",
    "summary(cereals_linearMod)"
   ]
  },
  {
   "cell_type": "code",
   "execution_count": 17,
   "metadata": {},
   "outputs": [],
   "source": [
    "set.seed(100) \n",
    "trainingRowIndex <- sample(1:nrow(cerealslgd_new), 0.8*nrow(cerealslgd_new)) \n",
    "cereals_trainingData <- cerealslgd_new[trainingRowIndex, ] \n",
    "cereals_testData  <- cerealslgd_new[-trainingRowIndex, ]  "
   ]
  },
  {
   "cell_type": "code",
   "execution_count": 18,
   "metadata": {},
   "outputs": [
    {
     "data": {
      "text/plain": [
       "\n",
       "Call:\n",
       "lm(formula = LGD_Rating ~ ., data = cereals_trainingData)\n",
       "\n",
       "Residuals:\n",
       "   Min     1Q Median     3Q    Max \n",
       "-9.359 -1.749 -0.275  1.777 11.084 \n",
       "\n",
       "Coefficients:\n",
       "            Estimate Std. Error t value Pr(>|t|)    \n",
       "(Intercept) 45.71131    2.92814   15.61  < 2e-16 ***\n",
       "Sodium      -0.06489    0.00667   -9.73  3.2e-13 ***\n",
       "Fiber        4.19946    0.52638    7.98  1.6e-10 ***\n",
       "Carbo        0.89706    0.15945    5.63  7.9e-07 ***\n",
       "Sugars      -1.48519    0.13581  -10.94  5.6e-15 ***\n",
       "Potas       -0.02571    0.01770   -1.45    0.152    \n",
       "Vitamins    -0.05690    0.02351   -2.42    0.019 *  \n",
       "---\n",
       "Signif. codes:  0 '***' 0.001 '**' 0.01 '*' 0.05 '.' 0.1 ' ' 1\n",
       "\n",
       "Residual standard error: 3.72 on 51 degrees of freedom\n",
       "Multiple R-squared:  0.939,\tAdjusted R-squared:  0.931 \n",
       "F-statistic:  130 on 6 and 51 DF,  p-value: <2e-16\n"
      ]
     },
     "metadata": {},
     "output_type": "display_data"
    }
   ],
   "source": [
    "linearModtrData <- lm(LGD_Rating ~ ., data=cereals_trainingData) \n",
    "summary(linearModtrData)"
   ]
  },
  {
   "cell_type": "code",
   "execution_count": 19,
   "metadata": {
    "scrolled": true
   },
   "outputs": [
    {
     "data": {
      "text/html": [
       "<table>\n",
       "<thead><tr><th></th><th scope=col>LGD_Rating</th><th scope=col>PredLGD</th><th scope=col>diff</th></tr></thead>\n",
       "<tbody>\n",
       "\t<tr><th scope=row>1</th><td>68.403   </td><td>66.223   </td><td>  2.18046</td></tr>\n",
       "\t<tr><th scope=row>2</th><td>33.984   </td><td>44.960   </td><td>-10.97680</td></tr>\n",
       "\t<tr><th scope=row>10</th><td>53.314   </td><td>51.010   </td><td>  2.30349</td></tr>\n",
       "\t<tr><th scope=row>16</th><td>41.445   </td><td>40.758   </td><td>  0.68721</td></tr>\n",
       "\t<tr><th scope=row>17</th><td>45.863   </td><td>44.639   </td><td>  1.22392</td></tr>\n",
       "\t<tr><th scope=row>26</th><td>31.436   </td><td>31.090   </td><td>  0.34587</td></tr>\n",
       "</tbody>\n",
       "</table>\n"
      ],
      "text/latex": [
       "\\begin{tabular}{r|lll}\n",
       "  & LGD\\_Rating & PredLGD & diff\\\\\n",
       "\\hline\n",
       "\t1 & 68.403    & 66.223    &   2.18046\\\\\n",
       "\t2 & 33.984    & 44.960    & -10.97680\\\\\n",
       "\t10 & 53.314    & 51.010    &   2.30349\\\\\n",
       "\t16 & 41.445    & 40.758    &   0.68721\\\\\n",
       "\t17 & 45.863    & 44.639    &   1.22392\\\\\n",
       "\t26 & 31.436    & 31.090    &   0.34587\\\\\n",
       "\\end{tabular}\n"
      ],
      "text/markdown": [
       "\n",
       "| <!--/--> | LGD_Rating | PredLGD | diff | \n",
       "|---|---|---|---|---|---|\n",
       "| 1 | 68.403    | 66.223    |   2.18046 | \n",
       "| 2 | 33.984    | 44.960    | -10.97680 | \n",
       "| 10 | 53.314    | 51.010    |   2.30349 | \n",
       "| 16 | 41.445    | 40.758    |   0.68721 | \n",
       "| 17 | 45.863    | 44.639    |   1.22392 | \n",
       "| 26 | 31.436    | 31.090    |   0.34587 | \n",
       "\n",
       "\n"
      ],
      "text/plain": [
       "   LGD_Rating PredLGD diff     \n",
       "1  68.403     66.223    2.18046\n",
       "2  33.984     44.960  -10.97680\n",
       "10 53.314     51.010    2.30349\n",
       "16 41.445     40.758    0.68721\n",
       "17 45.863     44.639    1.22392\n",
       "26 31.436     31.090    0.34587"
      ]
     },
     "metadata": {},
     "output_type": "display_data"
    }
   ],
   "source": [
    "distPred <- predict(linearModtrData, cereals_testData)\n",
    "\n",
    "result1 <- data.frame(LGD_Rating = cereals_testData$LGD_Rating , PredLGD= distPred , diff = (cereals_testData$LGD_Rating-distPred))\n",
    "head(result1)\n"
   ]
  },
  {
   "cell_type": "code",
   "execution_count": 27,
   "metadata": {},
   "outputs": [
    {
     "data": {
      "image/png": "[encoded data removed]",
      "text/plain": [
       "Plot with title \"Histogram of cerealslgd_new$LGD_Rating\""
      ]
     },
     "metadata": {},
     "output_type": "display_data"
    }
   ],
   "source": [
    "hist(cerealslgd_new$LGD_Rating)"
   ]
  },
  {
   "cell_type": "code",
   "execution_count": 32,
   "metadata": {},
   "outputs": [
    {
     "data": {
      "text/plain": [
       "\n",
       "Call:\n",
       "lm(formula = LGD_Rating ~ ., data = cereals_trainingData)\n",
       "\n",
       "Residuals:\n",
       "   Min     1Q Median     3Q    Max \n",
       "-9.359 -1.749 -0.275  1.777 11.084 \n",
       "\n",
       "Coefficients:\n",
       "            Estimate Std. Error t value Pr(>|t|)    \n",
       "(Intercept) 45.71131    2.92814   15.61  < 2e-16 ***\n",
       "Sodium      -0.06489    0.00667   -9.73  3.2e-13 ***\n",
       "Fiber        4.19946    0.52638    7.98  1.6e-10 ***\n",
       "Carbo        0.89706    0.15945    5.63  7.9e-07 ***\n",
       "Sugars      -1.48519    0.13581  -10.94  5.6e-15 ***\n",
       "Potas       -0.02571    0.01770   -1.45    0.152    \n",
       "Vitamins    -0.05690    0.02351   -2.42    0.019 *  \n",
       "---\n",
       "Signif. codes:  0 '***' 0.001 '**' 0.01 '*' 0.05 '.' 0.1 ' ' 1\n",
       "\n",
       "Residual standard error: 3.72 on 51 degrees of freedom\n",
       "Multiple R-squared:  0.939,\tAdjusted R-squared:  0.931 \n",
       "F-statistic:  130 on 6 and 51 DF,  p-value: <2e-16\n"
      ]
     },
     "metadata": {},
     "output_type": "display_data"
    }
   ],
   "source": [
    "cereals_linearModtrData <- lm(LGD_Rating ~ ., data=cereals_trainingData) \n",
    "summary(cereals_linearModtrData)"
   ]
  },
  {
   "cell_type": "code",
   "execution_count": 33,
   "metadata": {},
   "outputs": [
    {
     "data": {
      "image/png": "[encoded data removed]",
      "text/plain": [
       "Plot with title \"\""
      ]
     },
     "metadata": {},
     "output_type": "display_data"
    },
    {
     "data": {
      "image/png": "[encoded data removed]",
      "text/plain": [
       "Plot with title \"\""
      ]
     },
     "metadata": {},
     "output_type": "display_data"
    },
    {
     "data": {
      "image/png": "[encoded data removed]",
      "text/plain": [
       "Plot with title \"\""
      ]
     },
     "metadata": {},
     "output_type": "display_data"
    },
    {
     "data": {
      "image/png": "[encoded data removed]",
      "text/plain": [
       "Plot with title \"\""
      ]
     },
     "metadata": {},
     "output_type": "display_data"
    }
   ],
   "source": [
    "plot(cereals_linearModtrData)"
   ]
  },
  {
   "cell_type": "code",
   "execution_count": null,
   "metadata": {},
   "outputs": [],
   "source": []
  }
 ],
 "metadata": {
  "kernelspec": {
   "display_name": "R",
   "language": "R",
   "name": "ir"
  },
  "language_info": {
   "codemirror_mode": "r",
   "file_extension": ".r",
   "mimetype": "text/x-r-source",
   "name": "R",
   "pygments_lexer": "r",
   "version": "3.5.1"
  }
 },
 "nbformat": 4,
 "nbformat_minor": 2
}
